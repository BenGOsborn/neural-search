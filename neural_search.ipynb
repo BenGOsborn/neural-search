{
 "cells": [
  {
   "cell_type": "markdown",
   "id": "d6db1d9f",
   "metadata": {},
   "source": [
    "# Neural Search"
   ]
  },
  {
   "cell_type": "markdown",
   "id": "caf6135a",
   "metadata": {},
   "source": [
    "An AI powered search engine using Transformers, K-Means, and Cosine Similarity."
   ]
  },
  {
   "cell_type": "markdown",
   "id": "0cf731d4",
   "metadata": {},
   "source": [
    "## Search operation\n",
    "\n",
    "### Preprocessing\n",
    "- Take the text from pandas\n",
    "- Run the model on all of the text\n",
    "- Perform KMeansClustering and record the cluster for each vector\n",
    "\n",
    "### Perform search\n",
    "- Create embeddings\n",
    "- Find all text with the same cluster\n",
    "- Perform cosine similarity search between all elements in the cluster\n",
    "- Return the top K most elements"
   ]
  },
  {
   "cell_type": "code",
   "execution_count": 1,
   "id": "195585a6",
   "metadata": {},
   "outputs": [
    {
     "name": "stdout",
     "output_type": "stream",
     "text": [
      "\u001b[33mWARNING: You are using pip version 22.0.4; however, version 22.3.1 is available.\n",
      "You should consider upgrading via the '/home/ec2-user/anaconda3/envs/pytorch_p38/bin/python -m pip install --upgrade pip' command.\u001b[0m\u001b[33m\n",
      "\u001b[0m"
     ]
    }
   ],
   "source": [
    "!pip install -q transformers"
   ]
  },
  {
   "cell_type": "markdown",
   "id": "6d7153e2",
   "metadata": {},
   "source": [
    "## Load data"
   ]
  },
  {
   "cell_type": "markdown",
   "id": "6eebeb7e",
   "metadata": {},
   "source": [
    "Load CSV file from S3 bucket into DataFrame."
   ]
  },
  {
   "cell_type": "code",
   "execution_count": 2,
   "id": "65a173fa",
   "metadata": {},
   "outputs": [],
   "source": [
    "import sagemaker\n",
    "import pandas as pd"
   ]
  },
  {
   "cell_type": "code",
   "execution_count": 3,
   "id": "b421dee2",
   "metadata": {},
   "outputs": [],
   "source": [
    "sess = sagemaker.Session()\n",
    "\n",
    "bucket_name = sess.default_bucket()\n",
    "role_name = sagemaker.get_execution_role()\n",
    "\n",
    "bucket_prefix = \"neural-search\""
   ]
  },
  {
   "cell_type": "code",
   "execution_count": 4,
   "id": "ef4f89ec",
   "metadata": {},
   "outputs": [
    {
     "name": "stderr",
     "output_type": "stream",
     "text": [
      "/home/ec2-user/anaconda3/envs/pytorch_p38/lib/python3.8/site-packages/IPython/core/interactiveshell.py:3524: DtypeWarning: Columns (10) have mixed types.Specify dtype option on import or set low_memory=False.\n",
      "  exec(code_obj, self.user_global_ns, self.user_ns)\n"
     ]
    },
    {
     "data": {
      "text/html": [
       "<div>\n",
       "<style scoped>\n",
       "    .dataframe tbody tr th:only-of-type {\n",
       "        vertical-align: middle;\n",
       "    }\n",
       "\n",
       "    .dataframe tbody tr th {\n",
       "        vertical-align: top;\n",
       "    }\n",
       "\n",
       "    .dataframe thead th {\n",
       "        text-align: right;\n",
       "    }\n",
       "</style>\n",
       "<table border=\"1\" class=\"dataframe\">\n",
       "  <thead>\n",
       "    <tr style=\"text-align: right;\">\n",
       "      <th></th>\n",
       "      <th>title</th>\n",
       "      <th>overview</th>\n",
       "    </tr>\n",
       "  </thead>\n",
       "  <tbody>\n",
       "    <tr>\n",
       "      <th>0</th>\n",
       "      <td>Toy Story</td>\n",
       "      <td>Led by Woody, Andy's toys live happily in his ...</td>\n",
       "    </tr>\n",
       "    <tr>\n",
       "      <th>1</th>\n",
       "      <td>Jumanji</td>\n",
       "      <td>When siblings Judy and Peter discover an encha...</td>\n",
       "    </tr>\n",
       "    <tr>\n",
       "      <th>2</th>\n",
       "      <td>Grumpier Old Men</td>\n",
       "      <td>A family wedding reignites the ancient feud be...</td>\n",
       "    </tr>\n",
       "    <tr>\n",
       "      <th>3</th>\n",
       "      <td>Waiting to Exhale</td>\n",
       "      <td>Cheated on, mistreated and stepped on, the wom...</td>\n",
       "    </tr>\n",
       "    <tr>\n",
       "      <th>4</th>\n",
       "      <td>Father of the Bride Part II</td>\n",
       "      <td>Just when George Banks has recovered from his ...</td>\n",
       "    </tr>\n",
       "    <tr>\n",
       "      <th>5</th>\n",
       "      <td>Heat</td>\n",
       "      <td>Obsessive master thief, Neil McCauley leads a ...</td>\n",
       "    </tr>\n",
       "    <tr>\n",
       "      <th>6</th>\n",
       "      <td>Sabrina</td>\n",
       "      <td>An ugly duckling having undergone a remarkable...</td>\n",
       "    </tr>\n",
       "    <tr>\n",
       "      <th>7</th>\n",
       "      <td>Tom and Huck</td>\n",
       "      <td>A mischievous young boy, Tom Sawyer, witnesses...</td>\n",
       "    </tr>\n",
       "  </tbody>\n",
       "</table>\n",
       "</div>"
      ],
      "text/plain": [
       "                         title  \\\n",
       "0                    Toy Story   \n",
       "1                      Jumanji   \n",
       "2             Grumpier Old Men   \n",
       "3            Waiting to Exhale   \n",
       "4  Father of the Bride Part II   \n",
       "5                         Heat   \n",
       "6                      Sabrina   \n",
       "7                 Tom and Huck   \n",
       "\n",
       "                                            overview  \n",
       "0  Led by Woody, Andy's toys live happily in his ...  \n",
       "1  When siblings Judy and Peter discover an encha...  \n",
       "2  A family wedding reignites the ancient feud be...  \n",
       "3  Cheated on, mistreated and stepped on, the wom...  \n",
       "4  Just when George Banks has recovered from his ...  \n",
       "5  Obsessive master thief, Neil McCauley leads a ...  \n",
       "6  An ugly duckling having undergone a remarkable...  \n",
       "7  A mischievous young boy, Tom Sawyer, witnesses...  "
      ]
     },
     "execution_count": 4,
     "metadata": {},
     "output_type": "execute_result"
    }
   ],
   "source": [
    "DATA_LIMIT = 896\n",
    "\n",
    "data_location = f\"s3://{bucket_name}/{bucket_prefix}/data/movies_metadata.csv\"\n",
    "\n",
    "df = pd.read_csv(data_location)[[\"title\", \"overview\"]]\n",
    "df = df[df[\"overview\"].notna()]\n",
    "\n",
    "df = df.head(DATA_LIMIT)\n",
    "\n",
    "df.head(8)"
   ]
  },
  {
   "cell_type": "markdown",
   "id": "43daaec8",
   "metadata": {},
   "source": [
    "## Load embedding model"
   ]
  },
  {
   "cell_type": "markdown",
   "id": "e9e58c0a",
   "metadata": {},
   "source": [
    "Load the sentence embedding transformer model."
   ]
  },
  {
   "cell_type": "code",
   "execution_count": 5,
   "id": "02ae370e",
   "metadata": {},
   "outputs": [],
   "source": [
    "from transformers import AutoTokenizer as Tokenizer, AutoModel as Model\n",
    "import torch\n",
    "import numpy as np"
   ]
  },
  {
   "cell_type": "code",
   "execution_count": 6,
   "id": "757ee9c4",
   "metadata": {},
   "outputs": [],
   "source": [
    "device = torch.device(\"cuda\" if torch.cuda.is_available() else \"cpu\")\n",
    "\n",
    "model_name = \"sentence-transformers/all-MiniLM-L6-v2\"\n",
    "\n",
    "tokenizer = Tokenizer.from_pretrained(model_name)\n",
    "text_model = Model.from_pretrained(model_name).to(device)\n",
    "\n",
    "cosine_similarity_model = torch.nn.CosineSimilarity(dim=0, eps=1e-6)"
   ]
  },
  {
   "cell_type": "code",
   "execution_count": 7,
   "id": "7f4f1b1e",
   "metadata": {},
   "outputs": [],
   "source": [
    "def mean_pooling(model_output, attention_mask):\n",
    "    token_embeddings = model_output.last_hidden_state\n",
    "    input_mask_expanded = (\n",
    "        attention_mask.unsqueeze(-1).expand(token_embeddings.size()).float()\n",
    "    )\n",
    "    \n",
    "    pooled = torch.sum(token_embeddings * input_mask_expanded, 1) / torch.clamp(input_mask_expanded.sum(1), min=1e-9)\n",
    "    \n",
    "    return torch.nn.functional.normalize(pooled, p=2, dim=1)"
   ]
  },
  {
   "cell_type": "code",
   "execution_count": 8,
   "id": "2da20afc",
   "metadata": {},
   "outputs": [],
   "source": [
    "def create_embeddings(text, tokenizer, model, device):\n",
    "    encoded_input = tokenizer(\n",
    "        text,\n",
    "        padding=True,\n",
    "        truncation=True,\n",
    "        return_tensors=\"pt\"\n",
    "    ).to(device)\n",
    "    \n",
    "    with torch.no_grad():\n",
    "        model_output = model(**encoded_input)\n",
    "    \n",
    "    return mean_pooling(model_output, encoded_input[\"attention_mask\"])"
   ]
  },
  {
   "cell_type": "markdown",
   "id": "17945f9b",
   "metadata": {},
   "source": [
    "### Example embedding similarities"
   ]
  },
  {
   "cell_type": "code",
   "execution_count": 9,
   "id": "dae9cca8",
   "metadata": {},
   "outputs": [
    {
     "name": "stdout",
     "output_type": "stream",
     "text": [
      "'Andy is going to the beach on Sunday with his friends', 'Mandy is going to the movies Tuesday with her Mum', similarity=0.31142428517341614\n",
      "'Andy is going to the beach on Sunday with his friends', 'The cargo ship sailed through the night', similarity=0.0774894580245018\n",
      "'Mandy is going to the movies Tuesday with her Mum', 'The cargo ship sailed through the night', similarity=0.062295686453580856\n"
     ]
    }
   ],
   "source": [
    "from itertools import combinations\n",
    "\n",
    "sample_text = [\n",
    "    \"Andy is going to the beach on Sunday with his friends\",\n",
    "    \"Mandy is going to the movies Tuesday with her Mum\",\n",
    "    \"The cargo ship sailed through the night\",\n",
    "]\n",
    "\n",
    "sample_embeddings = create_embeddings(sample_text, tokenizer, text_model, device).cpu().detach()\n",
    "\n",
    "tuples = combinations(list(range(sample_embeddings.shape[0])), 2)\n",
    "\n",
    "for i, j in tuples:\n",
    "    similarity = cosine_similarity_model(sample_embeddings[i], sample_embeddings[j])\n",
    "    print(f\"'{sample_text[i]}', '{sample_text[j]}', similarity={similarity}\")"
   ]
  },
  {
   "cell_type": "markdown",
   "id": "cc6b3108",
   "metadata": {},
   "source": [
    "## Create embeddings"
   ]
  },
  {
   "cell_type": "markdown",
   "id": "9e1fd799",
   "metadata": {},
   "source": [
    "Create the embeddings representing each movie description."
   ]
  },
  {
   "cell_type": "code",
   "execution_count": 10,
   "id": "c2cfc852",
   "metadata": {},
   "outputs": [
    {
     "data": {
      "text/plain": [
       "tensor([[ 0.0634,  0.0010,  0.0932,  ...,  0.0154,  0.0446,  0.0220],\n",
       "        [ 0.0863,  0.0446, -0.0405,  ..., -0.0033, -0.0293, -0.0266],\n",
       "        [-0.1009,  0.0374, -0.0009,  ...,  0.0568, -0.0262,  0.0183],\n",
       "        ...,\n",
       "        [-0.0317, -0.1009,  0.0276,  ..., -0.0754,  0.0153, -0.0045],\n",
       "        [-0.0724,  0.0377, -0.0088,  ...,  0.0259,  0.0469, -0.0306],\n",
       "        [ 0.0073, -0.0173, -0.0241,  ...,  0.0053,  0.0448, -0.0604]])"
      ]
     },
     "execution_count": 10,
     "metadata": {},
     "output_type": "execute_result"
    }
   ],
   "source": [
    "BATCH_SIZE = 16\n",
    "\n",
    "input_text = df[\"overview\"].values\n",
    "\n",
    "embeddings = torch.zeros((len(input_text), sample_embeddings.shape[-1]))\n",
    "\n",
    "for i in range(0, len(input_text), BATCH_SIZE):\n",
    "    batch = list(input_text[i:i + BATCH_SIZE])\n",
    "    \n",
    "    batch_embeddings = create_embeddings(batch, tokenizer, text_model, device).cpu().detach()\n",
    "    embeddings[i:i + BATCH_SIZE, :] = batch_embeddings\n",
    "    \n",
    "embeddings"
   ]
  },
  {
   "cell_type": "markdown",
   "id": "27bf00d1",
   "metadata": {},
   "source": [
    "## Train K-Means model"
   ]
  },
  {
   "cell_type": "markdown",
   "id": "7f20544d",
   "metadata": {},
   "source": [
    "Train model used for clustering embeddings."
   ]
  },
  {
   "cell_type": "code",
   "execution_count": 11,
   "id": "76f0bafe",
   "metadata": {},
   "outputs": [],
   "source": [
    "from sklearn.cluster import KMeans"
   ]
  },
  {
   "cell_type": "code",
   "execution_count": 12,
   "id": "e347af35",
   "metadata": {},
   "outputs": [],
   "source": [
    "kmeans_model = KMeans().fit(embeddings)"
   ]
  },
  {
   "cell_type": "code",
   "execution_count": 13,
   "id": "f36843ee",
   "metadata": {},
   "outputs": [
    {
     "data": {
      "text/html": [
       "<div>\n",
       "<style scoped>\n",
       "    .dataframe tbody tr th:only-of-type {\n",
       "        vertical-align: middle;\n",
       "    }\n",
       "\n",
       "    .dataframe tbody tr th {\n",
       "        vertical-align: top;\n",
       "    }\n",
       "\n",
       "    .dataframe thead th {\n",
       "        text-align: right;\n",
       "    }\n",
       "</style>\n",
       "<table border=\"1\" class=\"dataframe\">\n",
       "  <thead>\n",
       "    <tr style=\"text-align: right;\">\n",
       "      <th></th>\n",
       "      <th>title</th>\n",
       "      <th>overview</th>\n",
       "      <th>cluster</th>\n",
       "    </tr>\n",
       "  </thead>\n",
       "  <tbody>\n",
       "    <tr>\n",
       "      <th>0</th>\n",
       "      <td>Toy Story</td>\n",
       "      <td>Led by Woody, Andy's toys live happily in his ...</td>\n",
       "      <td>3</td>\n",
       "    </tr>\n",
       "    <tr>\n",
       "      <th>1</th>\n",
       "      <td>Jumanji</td>\n",
       "      <td>When siblings Judy and Peter discover an encha...</td>\n",
       "      <td>3</td>\n",
       "    </tr>\n",
       "  </tbody>\n",
       "</table>\n",
       "</div>"
      ],
      "text/plain": [
       "       title                                           overview  cluster\n",
       "0  Toy Story  Led by Woody, Andy's toys live happily in his ...        3\n",
       "1    Jumanji  When siblings Judy and Peter discover an encha...        3"
      ]
     },
     "execution_count": 13,
     "metadata": {},
     "output_type": "execute_result"
    }
   ],
   "source": [
    "df[\"cluster\"] = kmeans_model.labels_\n",
    "\n",
    "df.head(2)"
   ]
  },
  {
   "cell_type": "markdown",
   "id": "ba996c71",
   "metadata": {},
   "source": [
    "## Perform search"
   ]
  },
  {
   "cell_type": "markdown",
   "id": "df394223",
   "metadata": {},
   "source": [
    "Search the database to find a list of movies that match the query."
   ]
  },
  {
   "cell_type": "code",
   "execution_count": 14,
   "id": "b87e8516",
   "metadata": {},
   "outputs": [],
   "source": [
    "def search(queries, tokenizer, text_model, kmeans_model, df, embeddings, device, max_results, cosine_similarity_model):\n",
    "    query_embeddings = create_embeddings(queries, tokenizer, text_model, device).cpu().detach()\n",
    "    \n",
    "    clusters = kmeans_model.predict(query_embeddings)\n",
    "    \n",
    "    out = []\n",
    "    \n",
    "    for i in range(len(clusters)):\n",
    "        mask = df[\"cluster\"] == clusters[i]\n",
    "        \n",
    "        temp = []\n",
    "        \n",
    "        for j, key in enumerate(mask.keys()):\n",
    "            if mask[key]:\n",
    "                similarity = cosine_similarity_model(query_embeddings[i], embeddings[j])\n",
    "                temp.append((similarity, clusters[i], df[\"title\"][key], df[\"overview\"][key]))\n",
    "        \n",
    "        temp = sorted(temp, reverse=True, key=lambda x: x[0])[:MAX_RESULTS]\n",
    "        out.append(temp)\n",
    "        \n",
    "    return out"
   ]
  },
  {
   "cell_type": "code",
   "execution_count": 15,
   "id": "ff5fa811",
   "metadata": {},
   "outputs": [
    {
     "name": "stdout",
     "output_type": "stream",
     "text": [
      "huggingface/tokenizers: The current process just got forked, after parallelism has already been used. Disabling parallelism to avoid deadlocks...\n",
      "To disable this warning, you can either:\n",
      "\t- Avoid using `tokenizers` before the fork if possible\n",
      "\t- Explicitly set the environment variable TOKENIZERS_PARALLELISM=(true | false)\n",
      "Query: 'people go on an adventure'\n",
      "0.3668648898601532 - 'Bhaji on the Beach' - 'A group of women of Indian descent take a trip together from their home in Birmingham, England to the beach resort of Blackpool.'\n",
      "0.35877588391304016 - 'White Squall' - 'Teenage boys discover discipline and camaraderie on an ill-fated sailing voyage.'\n",
      "0.34105104207992554 - 'Loaded' - 'A group of young friends convene in the countryside to shoot a horror movie. But an experiment with LSD sees normal boundaries between them collapsing, and tragedy subsequently striking.'\n",
      "0.3262408673763275 - 'Beautiful Girls' - 'During a snowy winter in the small fictional town of Knight\"s Ridge, Massachusetts, a group of lifelong buddies hang out, drink and struggle to connect with the women who affect their decisions, dreams and desires.'\n",
      "0.3242906630039215 - 'Hostile Intentions' - 'A weekend of fun becomes a fight for survival when three American women land in a Mexican jail. After being sexually molested by the guards, they attempt to escape with the help of a fellow prisoner.'\n",
      "\n",
      "Query: 'crime, gangs, and the mob'\n",
      "0.48891782760620117 - 'White Man's Burden' - 'The story takes place in alternative America where the blacks are members of social elite, and whites are inhabitants of inner city ghettos. Louis Pinnock is a white worker in a chocolate factory, loving husband and father of two children. While delivering a package for black CEO Thaddeus Thomas, he is mistaken for a voyeur and, as a result, loses his job, gets beaten by black cops and his family gets evicted from their home. Desperate Pinnock takes a gun and kidnaps Thomas, demanding justice.'\n",
      "0.46115392446517944 - 'The Escort' - 'The film shows the difficulties of an honest, imperiled judge and his bodyguard of four men, trying to clean up a Sicilian town. Corrupt local politicians, working hand-in-hand with the Mafia, will stop at nothing to prevent exposure of their rackets.'\n",
      "0.4199969470500946 - 'Original Gangstas' - 'A violent street gang, the Rebels, rule the streets of Gary, Indiana. The Rebels shoot Marvin Bookman, a store-keeper, for giving the police information about a drive-by shooting they committed. Marvin's son, former NFL star John who created the Rebels, returns to Gary to be with his father and, with a little help from his friends, to destroy the Rebels his way.'\n",
      "0.41863229870796204 - 'Ransom' - 'When a rich man's son is kidnapped, he cooperates with the police at first but then tries a unique tactic against the criminals.'\n",
      "0.40836960077285767 - 'Death in the Garden' - 'Amid a revolution in a South American mining outpost, a band of fugitives - a roguish adventurer, a local hooker, a priest, an aging diamond miner and his deaf-mute daughter - are forced to flee for their lives into the jungle. Starving, exhausted and stripped of their old identities, they wander desperately lured by one deceptive promise of salvation after another.'\n",
      "\n",
      "Query: 'magical realm'\n",
      "0.3735624849796295 - 'Heavy Metal' - 'A glowing orb terrorizes a young girl with a collection of stories of dark fantasy, eroticism and horror.'\n",
      "0.3652953803539276 - 'The Wizard of Oz' - 'Young Dorothy finds herself in a magical world where she makes friends with a lion, a scarecrow and a tin man as they make their way along the yellow brick road to talk with the Wizard and ask for the things they miss most in their lives. The Wicked Witch of the West is the only thing that could stop them.'\n",
      "0.36320632696151733 - 'The Neverending Story III: Escape from Fantasia' - 'A young boy must restore order when a group of bullies steal the magical book that acts as a portal between Earth and the imaginary world of Fantasia.'\n",
      "0.3009253740310669 - 'Snow White and the Seven Dwarfs' - 'A beautiful girl, Snow White, takes refuge in the forest in the house of seven dwarfs to hide from her stepmother, the wicked Queen. The Queen is jealous because she wants to be known as \"the fairest in the land,\" and Snow White's beauty surpasses her own.'\n",
      "0.28045690059661865 - 'The Secret Garden' - 'A young British girl born and reared in India loses her neglectful parents in an earthquake. She is returned to England to live at her uncle's castle. Her uncle is very distant due to the loss of his wife ten years before. Neglected once again, she begins exploring the estate and discovers a garden that has been locked and neglected. Aided by one of the servants' boys, she begins restoring the garden, and eventually discovers some other secrets of the manor.'\n",
      "\n"
     ]
    }
   ],
   "source": [
    "MAX_RESULTS = 5\n",
    "\n",
    "queries = [\n",
    "    \"people go on an adventure\",\n",
    "    \"crime, gangs, and the mob\",\n",
    "    \"magical realm\"\n",
    "]\n",
    "\n",
    "results = search(queries, tokenizer, text_model, kmeans_model, df, embeddings, device, MAX_RESULTS, cosine_similarity_model)\n",
    "\n",
    "for i in range(len(results)):\n",
    "    print(f\"Query: '{queries[i]}'\")\n",
    "    \n",
    "    for result in results[i]:\n",
    "        print(f\"{result[0].squeeze()} - '{result[2]}' - '{result[3]}'\")\n",
    "        \n",
    "    print()"
   ]
  }
 ],
 "metadata": {
  "kernelspec": {
   "display_name": "conda_pytorch_p38",
   "language": "python",
   "name": "conda_pytorch_p38"
  },
  "language_info": {
   "codemirror_mode": {
    "name": "ipython",
    "version": 3
   },
   "file_extension": ".py",
   "mimetype": "text/x-python",
   "name": "python",
   "nbconvert_exporter": "python",
   "pygments_lexer": "ipython3",
   "version": "3.8.12"
  }
 },
 "nbformat": 4,
 "nbformat_minor": 5
}
