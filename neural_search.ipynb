{
 "cells": [
  {
   "cell_type": "markdown",
   "id": "14525962",
   "metadata": {},
   "source": [
    "# Neural Search"
   ]
  },
  {
   "cell_type": "markdown",
   "id": "b9ba90f9",
   "metadata": {},
   "source": [
    "A neural search engine powered by BERT, K-Means, and Cosine Similarity"
   ]
  }
 ],
 "metadata": {
  "kernelspec": {
   "display_name": "conda_pytorch_p38",
   "language": "python",
   "name": "conda_pytorch_p38"
  },
  "language_info": {
   "name": ""
  }
 },
 "nbformat": 4,
 "nbformat_minor": 5
}
